{
 "cells": [
  {
   "cell_type": "code",
   "execution_count": 1,
   "id": "d8e7df07",
   "metadata": {},
   "outputs": [],
   "source": [
    "import anndata as ad\n",
    "import pandas as pd\n",
    "import numpy as np\n",
    "import scipy.sparse as sp"
   ]
  },
  {
   "cell_type": "markdown",
   "id": "0f593db8",
   "metadata": {},
   "source": [
    "# Single Cell Sequencing Data\n",
    "\n",
    "Single cell RNA-SEQ atlas filtered for sporadic amyotrophic lateral sclerosis (sALS) in the Motor Cortex."
   ]
  },
  {
   "cell_type": "code",
   "execution_count": 2,
   "id": "52fe1d33",
   "metadata": {},
   "outputs": [],
   "source": [
    "# Path to the ANNDATA object\n",
    "anndata_path = \"/home/amrinder/Documents/Github/helical_challenge/counts_combined_filtered_BA4_sALS_PN.h5ad\"\n",
    "\n",
    "# Load the ANNDATA object and keep remove the training data\n",
    "anndata = ad.read_h5ad(anndata_path)"
   ]
  },
  {
   "cell_type": "markdown",
   "id": "2af95d9a",
   "metadata": {},
   "source": [
    "# In Silico Perturbation Workflow"
   ]
  },
  {
   "cell_type": "markdown",
   "id": "c7a1bfe5",
   "metadata": {},
   "source": [
    "Perturbing genes belonging to specific cell types."
   ]
  },
  {
   "cell_type": "code",
   "execution_count": 8,
   "id": "e902e416",
   "metadata": {},
   "outputs": [],
   "source": [
    "# Select subset of anndata to target for perturbations\n",
    "Cell = 'Astro'\n",
    "new_anndata = anndata[anndata.obs['CellType'] == Cell]\n",
    "new_anndata = new_anndata[new_anndata.obs['split'] == 'test']\n",
    "\n",
    "# Condition PN = Non-Pathalogical, ALS = Pathological for ALS\n",
    "Condition = 'PN'\n",
    "if Condition:\n",
    "    new_anndata = new_anndata[new_anndata.obs['Condition'] == Condition]\n",
    "\n",
    "new_anndata = new_anndata.copy()"
   ]
  },
  {
   "cell_type": "markdown",
   "id": "8e1ba7c8",
   "metadata": {},
   "source": [
    "Inputs for perturbation workflow"
   ]
  },
  {
   "cell_type": "code",
   "execution_count": 9,
   "id": "3e570745",
   "metadata": {},
   "outputs": [],
   "source": [
    "# Genes to perturb dict { Ensemble ID (STR) : Scale (FLOAT), ... }\n",
    "perturb_genes = {'ENSG00000107317' : 0.05, 'ENSG00000066032' : 4}\n",
    "\n",
    "# Name for metadata in anndata object (STR)\n",
    "metadata = 'Genes_and_Scale'"
   ]
  },
  {
   "cell_type": "markdown",
   "id": "b5b0218e",
   "metadata": {},
   "source": [
    "Perturbing selected genes by scale"
   ]
  },
  {
   "cell_type": "code",
   "execution_count": 10,
   "id": "485d2561",
   "metadata": {},
   "outputs": [],
   "source": [
    "# Counts matrix\n",
    "X = new_anndata.X\n",
    "\n",
    "# Matrix for scaling target genes be specific factor\n",
    "scale = np.ones(new_anndata.n_vars, dtype=float)\n",
    "\n",
    "for g, s in perturb_genes.items():\n",
    "    g_idx = pd.Index(new_anndata.var['ENSID']).get_loc(g)\n",
    "    scale[g_idx] = float(s)\n",
    "\n",
    "scale = sp.diags(scale)\n",
    "\n",
    "# Apply scaling to counts matrix, generates a float64 object\n",
    "Y = X @ scale\n",
    "# Round and convert back to int32\n",
    "np.rint(Y.data, out=Y.data)\n",
    "Y.data = Y.data.astype(np.int32, copy=False)\n",
    "Y.eliminate_zeros()\n",
    "\n",
    "# Store in new_anndata object with associated meta data file\n",
    "new_anndata.X = Y\n",
    "new_anndata.uns[metadata] = perturb_genes"
   ]
  },
  {
   "cell_type": "markdown",
   "id": "199bcad3",
   "metadata": {},
   "source": [
    "Saves anndata file"
   ]
  },
  {
   "cell_type": "code",
   "execution_count": 11,
   "id": "09314775",
   "metadata": {},
   "outputs": [],
   "source": [
    "new_anndata_path = f\"/home/amrinder/Documents/Github/helical_challenge/counts_{Cell}_filtered_BA4_{Condition}_PTGDS_CTNNA2.h5ad\"\n",
    "new_anndata.write_h5ad(new_anndata_path)"
   ]
  }
 ],
 "metadata": {
  "kernelspec": {
   "display_name": "helical-challenge",
   "language": "python",
   "name": "python3"
  },
  "language_info": {
   "codemirror_mode": {
    "name": "ipython",
    "version": 3
   },
   "file_extension": ".py",
   "mimetype": "text/x-python",
   "name": "python",
   "nbconvert_exporter": "python",
   "pygments_lexer": "ipython3",
   "version": "3.11.13"
  }
 },
 "nbformat": 4,
 "nbformat_minor": 5
}
