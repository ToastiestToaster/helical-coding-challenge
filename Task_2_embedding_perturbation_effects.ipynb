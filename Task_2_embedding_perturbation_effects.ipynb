{
 "cells": [
  {
   "cell_type": "code",
   "execution_count": null,
   "id": "909ae1e4",
   "metadata": {
    "colab": {
     "base_uri": "https://localhost:8080/"
    },
    "executionInfo": {
     "elapsed": 13816,
     "status": "ok",
     "timestamp": 1759685029370,
     "user": {
      "displayName": "Talo Dalo",
      "userId": "09374955428472337378"
     },
     "user_tz": -60
    },
    "id": "909ae1e4",
    "outputId": "8cde04b0-387a-4abb-8e72-7ca87a1b1b88"
   },
   "outputs": [
    {
     "name": "stderr",
     "output_type": "stream",
     "text": [
      "INFO:datasets:PyTorch version 2.8.0 available.\n",
      "INFO:datasets:Polars version 1.25.2 available.\n",
      "INFO:datasets:Duckdb version 1.3.2 available.\n",
      "INFO:datasets:TensorFlow version 2.19.0 available.\n",
      "INFO:datasets:JAX version 0.5.3 available.\n"
     ]
    }
   ],
   "source": [
    "import anndata as ad\n",
    "import numpy as np\n",
    "\n",
    "from helical.models.geneformer import Geneformer, GeneformerFineTuningModel, GeneformerConfig"
   ]
  },
  {
   "cell_type": "markdown",
   "id": "kYzEuiL2fB9z",
   "metadata": {
    "id": "kYzEuiL2fB9z"
   },
   "source": [
    "# Geneformer (Pre-trained)\n",
    "\n",
    "Generating cell embeddings using the pre-trained Geneformer for unperturbed data"
   ]
  },
  {
   "cell_type": "code",
   "execution_count": null,
   "id": "7c9fe8b0",
   "metadata": {
    "colab": {
     "base_uri": "https://localhost:8080/"
    },
    "executionInfo": {
     "elapsed": 2171,
     "status": "ok",
     "timestamp": 1759521493276,
     "user": {
      "displayName": "Talo Dalo",
      "userId": "09374955428472337378"
     },
     "user_tz": -60
    },
    "id": "7c9fe8b0",
    "outputId": "5dc02d74-a61f-408a-cc54-188742b0eedb"
   },
   "outputs": [
    {
     "name": "stderr",
     "output_type": "stream",
     "text": [
      "INFO:helical.models.geneformer.model:Model finished initializing.\n",
      "INFO:helical.models.geneformer.model:'gf-12L-38M-i4096' model is in 'eval' mode, on device 'cuda:0' with embedding mode 'cell'.\n"
     ]
    }
   ],
   "source": [
    "# Since gf-12L-95M-i4096 is deprecated I'm using gf-12L-38M-i4096\n",
    "model_config = GeneformerConfig(model_name=\"gf-12L-38M-i4096\", batch_size=10, device=\"cuda:0\")\n",
    "geneformer = Geneformer(model_config)"
   ]
  },
  {
   "cell_type": "code",
   "execution_count": null,
   "id": "jjWQRiLxb6mb",
   "metadata": {
    "id": "jjWQRiLxb6mb"
   },
   "outputs": [],
   "source": [
    "# Path to the ANNDATA object\n",
    "anndata_path = \"/content/drive/MyDrive/counts_Astro_filtered_BA4_ALS_ITGB8.h5ad\"\n",
    "\n",
    "# Loads the ANNDATA object and renames ENSID to ensembl_id\n",
    "anndata = ad.read_h5ad(anndata_path)\n",
    "anndata.var.rename(columns={\"ENSID\" : \"ensembl_id\"}, inplace=True)"
   ]
  },
  {
   "cell_type": "code",
   "execution_count": null,
   "id": "q-BJwOFXfbVI",
   "metadata": {
    "colab": {
     "base_uri": "https://localhost:8080/"
    },
    "executionInfo": {
     "elapsed": 1232,
     "status": "ok",
     "timestamp": 1759521948218,
     "user": {
      "displayName": "Talo Dalo",
      "userId": "09374955428472337378"
     },
     "user_tz": -60
    },
    "id": "q-BJwOFXfbVI",
    "outputId": "8cb0e657-c174-46ea-890c-44d671041038"
   },
   "outputs": [
    {
     "name": "stderr",
     "output_type": "stream",
     "text": [
      "INFO:helical.models.geneformer.model:Processing data for Geneformer.\n",
      "INFO:helical.models.geneformer.geneformer_tokenizer:AnnData object with n_obs × n_vars = 2295 × 22832\n",
      "    obs: 'Sample_ID', 'Donor', 'Region', 'Sex', 'Condition', 'Group', 'C9_pos', 'CellClass', 'CellType', 'SubType', 'full_label', 'DGE_Group', 'Bakken_M1', 'data_merge_id', 'data_sample_id', 'n_genes_by_counts', 'log1p_n_genes_by_counts', 'total_counts', 'log1p_total_counts', 'Cellstates_LVL1', 'Cellstates_LVL2', 'Cellstates_LVL3', 'total_counts_mt', 'log1p_total_counts_mt', 'pct_counts_mt', 'n_genes', 'split'\n",
      "    var: 'Biotype', 'Chromosome', 'n_cells_by_counts', 'mean_counts', 'log1p_mean_counts', 'pct_dropout_by_counts', 'total_counts', 'log1p_total_counts', 'ensembl_id', 'mt', 'n_cells', 'biotype', 'ensembl_id_collapsed'\n",
      "    uns: 'Gene_and_Scale' has no column attribute 'filter_pass'; tokenizing all cells.\n",
      "INFO:helical.models.geneformer.geneformer_tokenizer:Creating dataset.\n",
      "INFO:helical.models.geneformer.model:Successfully processed the data for Geneformer.\n"
     ]
    }
   ],
   "source": [
    "# Process data\n",
    "dataset = geneformer.process_data(anndata, gene_names=\"ensembl_id\")"
   ]
  },
  {
   "cell_type": "code",
   "execution_count": null,
   "id": "zSX67qF6f3yD",
   "metadata": {
    "colab": {
     "base_uri": "https://localhost:8080/",
     "height": 136,
     "referenced_widgets": [
      "84f09c1eb4d5410089b9c14fd1a40efb",
      "714f6dd4430149a1a98cb1e653a75f83",
      "56ab2885a9254b52afa312041ad87119",
      "a8048495c4154b77bea16998f56c2eb8",
      "6b759bb717af4e3f8e4b64e33bb31f93",
      "04223bd0959a4750ab1fdd83237ecbb3",
      "ed70c18a4a2c4cc1985584ae01f7c80a",
      "2e75c2abd0504fd399a80fe4709d8106",
      "36c39c1a831e47d6a26014fba4ac5a47",
      "a3cbe729e20e45fbbaaffcb3c03ddea1",
      "24f1830aefc64f9e9b0b6318e0e5c051"
     ]
    },
    "executionInfo": {
     "elapsed": 20264,
     "status": "ok",
     "timestamp": 1759521968486,
     "user": {
      "displayName": "Talo Dalo",
      "userId": "09374955428472337378"
     },
     "user_tz": -60
    },
    "id": "zSX67qF6f3yD",
    "outputId": "2c30ac7a-6e0e-447c-8653-a26e66bd4591"
   },
   "outputs": [
    {
     "name": "stderr",
     "output_type": "stream",
     "text": [
      "INFO:helical.models.geneformer.model:Started getting embeddings:\n",
      "WARNING:helical.models.geneformer.geneformer_utils:CLS token present in token dictionary, excluding from average.\n",
      "WARNING:helical.models.geneformer.geneformer_utils:EOS token present in token dictionary, excluding from average.\n"
     ]
    },
    {
     "data": {
      "application/vnd.jupyter.widget-view+json": {
       "model_id": "84f09c1eb4d5410089b9c14fd1a40efb",
       "version_major": 2,
       "version_minor": 0
      },
      "text/plain": [
       "  0%|          | 0/230 [00:00<?, ?it/s]"
      ]
     },
     "metadata": {},
     "output_type": "display_data"
    },
    {
     "name": "stderr",
     "output_type": "stream",
     "text": [
      "INFO:helical.models.geneformer.model:Finished getting embeddings.\n",
      "... storing 'ensembl_id_collapsed' as categorical\n"
     ]
    }
   ],
   "source": [
    "# Generate embeddings, store in anndata object and save\n",
    "embeddings, genes = geneformer.get_embeddings(dataset, output_genes=True)\n",
    "anndata.obsm['X_Geneformer'] = embeddings\n",
    "\n",
    "# Save the anndata file with embeddings\n",
    "anndata.write(anndata_path)"
   ]
  },
  {
   "cell_type": "markdown",
   "id": "x14olsfs0OOg",
   "metadata": {
    "id": "x14olsfs0OOg"
   },
   "source": [
    "# Geneformer (Fine-tuned)\n",
    "\n",
    "Finetuning the Geneformer on cell types for classifying cell disease states."
   ]
  },
  {
   "cell_type": "code",
   "execution_count": 65,
   "id": "x3Qv-xUl27Q5",
   "metadata": {
    "executionInfo": {
     "elapsed": 15975,
     "status": "ok",
     "timestamp": 1759695096460,
     "user": {
      "displayName": "Talo Dalo",
      "userId": "09374955428472337378"
     },
     "user_tz": -60
    },
    "id": "x3Qv-xUl27Q5"
   },
   "outputs": [],
   "source": [
    "anndata_path = \"/content/drive/MyDrive/counts_combined_filtered_BA4_sALS_PN.h5ad\"\n",
    "anndata = ad.read_h5ad(anndata_path)\n",
    "anndata.var.rename(columns={\"ENSID\" : \"ensembl_id\"}, inplace=True)\n",
    "\n",
    "anndata_finetuning = anndata[anndata.obs['CellType'] == 'Astro']\n",
    "\n",
    "# Adds a classification ID column to train and test anndata objects\n",
    "anndata_train = anndata_finetuning[anndata_finetuning.obs['split'] == 'train'].copy()\n",
    "anndata_test = anndata_finetuning[anndata_finetuning.obs['split'] == 'test'].copy()\n",
    "\n",
    "cell_types_train = list(np.array(anndata_train.obs['Condition'].tolist()))\n",
    "cell_types_test = list(np.array(anndata_test.obs['Condition'].tolist()))\n",
    "\n",
    "label_set = set(cell_types_train) | set(cell_types_test)\n",
    "class_id_dict = dict(zip(label_set, [i for i in range(len(label_set))]))\n",
    "\n",
    "for i in range(len(cell_types_train)):\n",
    "    cell_types_train[i] = class_id_dict[cell_types_train[i]]\n",
    "\n",
    "for i in range(len(cell_types_test)):\n",
    "    cell_types_test[i] = class_id_dict[cell_types_test[i]]"
   ]
  },
  {
   "cell_type": "markdown",
   "id": "2543214d",
   "metadata": {},
   "source": [
    "Loads in the model"
   ]
  },
  {
   "cell_type": "code",
   "execution_count": 71,
   "id": "LyKI4mDy7VwP",
   "metadata": {
    "colab": {
     "base_uri": "https://localhost:8080/"
    },
    "executionInfo": {
     "elapsed": 2138,
     "status": "ok",
     "timestamp": 1759696100721,
     "user": {
      "displayName": "Talo Dalo",
      "userId": "09374955428472337378"
     },
     "user_tz": -60
    },
    "id": "LyKI4mDy7VwP",
    "outputId": "71670897-d9f6-4743-9f96-cabc62538a1d"
   },
   "outputs": [
    {
     "name": "stderr",
     "output_type": "stream",
     "text": [
      "INFO:helical.models.geneformer.model:Model finished initializing.\n",
      "INFO:helical.models.geneformer.model:'gf-12L-38M-i4096' model is in 'eval' mode, on device 'cuda:0' with embedding mode 'cell'.\n"
     ]
    }
   ],
   "source": [
    "geneformer_ft_config = GeneformerConfig(device='cuda:0', batch_size=10, model_name=\"gf-12L-38M-i4096\")\n",
    "geneformer_ft = GeneformerFineTuningModel(geneformer_config=geneformer_ft_config, fine_tuning_head=\"classification\", output_size=len(class_id_dict))"
   ]
  },
  {
   "cell_type": "markdown",
   "id": "d656fc18",
   "metadata": {},
   "source": [
    "Process and add column with condition ID to the geneformer train and test datasets"
   ]
  },
  {
   "cell_type": "code",
   "execution_count": 72,
   "id": "jEHXKFzD7kj6",
   "metadata": {
    "colab": {
     "base_uri": "https://localhost:8080/"
    },
    "executionInfo": {
     "elapsed": 6449,
     "status": "ok",
     "timestamp": 1759696107176,
     "user": {
      "displayName": "Talo Dalo",
      "userId": "09374955428472337378"
     },
     "user_tz": -60
    },
    "id": "jEHXKFzD7kj6",
    "outputId": "08620b6a-3a44-4484-c0fc-ae7ddfd4553b"
   },
   "outputs": [
    {
     "name": "stderr",
     "output_type": "stream",
     "text": [
      "INFO:helical.models.geneformer.model:Processing data for Geneformer.\n",
      "INFO:helical.models.geneformer.geneformer_tokenizer:AnnData object with n_obs × n_vars = 9022 × 22832\n",
      "    obs: 'Sample_ID', 'Donor', 'Region', 'Sex', 'Condition', 'Group', 'C9_pos', 'CellClass', 'CellType', 'SubType', 'full_label', 'DGE_Group', 'Bakken_M1', 'data_merge_id', 'data_sample_id', 'n_genes_by_counts', 'log1p_n_genes_by_counts', 'total_counts', 'log1p_total_counts', 'Cellstates_LVL1', 'Cellstates_LVL2', 'Cellstates_LVL3', 'total_counts_mt', 'log1p_total_counts_mt', 'pct_counts_mt', 'n_genes', 'split'\n",
      "    var: 'Biotype', 'Chromosome', 'n_cells_by_counts', 'mean_counts', 'log1p_mean_counts', 'pct_dropout_by_counts', 'total_counts', 'log1p_total_counts', 'ensembl_id', 'mt', 'n_cells', 'biotype', 'ensembl_id_collapsed' has no column attribute 'filter_pass'; tokenizing all cells.\n",
      "INFO:helical.models.geneformer.geneformer_tokenizer:Creating dataset.\n",
      "INFO:helical.models.geneformer.model:Successfully processed the data for Geneformer.\n",
      "INFO:helical.models.geneformer.model:Processing data for Geneformer.\n",
      "INFO:helical.models.geneformer.geneformer_tokenizer:AnnData object with n_obs × n_vars = 4156 × 22832\n",
      "    obs: 'Sample_ID', 'Donor', 'Region', 'Sex', 'Condition', 'Group', 'C9_pos', 'CellClass', 'CellType', 'SubType', 'full_label', 'DGE_Group', 'Bakken_M1', 'data_merge_id', 'data_sample_id', 'n_genes_by_counts', 'log1p_n_genes_by_counts', 'total_counts', 'log1p_total_counts', 'Cellstates_LVL1', 'Cellstates_LVL2', 'Cellstates_LVL3', 'total_counts_mt', 'log1p_total_counts_mt', 'pct_counts_mt', 'n_genes', 'split'\n",
      "    var: 'Biotype', 'Chromosome', 'n_cells_by_counts', 'mean_counts', 'log1p_mean_counts', 'pct_dropout_by_counts', 'total_counts', 'log1p_total_counts', 'ensembl_id', 'mt', 'n_cells', 'biotype', 'ensembl_id_collapsed'\n",
      "    uns: 'neighbors', 'umap', 'Condition_colors'\n",
      "    obsm: 'X_Geneformer_FT', 'X_umap'\n",
      "    obsp: 'distances', 'connectivities' has no column attribute 'filter_pass'; tokenizing all cells.\n",
      "INFO:helical.models.geneformer.geneformer_tokenizer:Creating dataset.\n",
      "INFO:helical.models.geneformer.model:Successfully processed the data for Geneformer.\n"
     ]
    }
   ],
   "source": [
    "geneformer_train_dataset = geneformer_ft.process_data(anndata_train, gene_names='ensembl_id')\n",
    "geneformer_test_dataset = geneformer_ft.process_data(anndata_test, gene_names='ensembl_id')\n",
    "\n",
    "geneformer_train_dataset = geneformer_train_dataset.add_column(\"Condition_ID\", cell_types_train)\n",
    "geneformer_test_dataset = geneformer_test_dataset.add_column(\"Condition_ID\", cell_types_test)"
   ]
  },
  {
   "cell_type": "markdown",
   "id": "9DyhgLS77-w-",
   "metadata": {
    "id": "9DyhgLS77-w-"
   },
   "source": [
    "Fine-tune the model on specified data and save unperturbed embeddings"
   ]
  },
  {
   "cell_type": "code",
   "execution_count": null,
   "id": "0sqrs6Od8Bar",
   "metadata": {
    "colab": {
     "base_uri": "https://localhost:8080/"
    },
    "executionInfo": {
     "elapsed": 862970,
     "status": "ok",
     "timestamp": 1759696970151,
     "user": {
      "displayName": "Talo Dalo",
      "userId": "09374955428472337378"
     },
     "user_tz": -60
    },
    "id": "0sqrs6Od8Bar",
    "outputId": "3b1c72e5-12ad-4565-ed48-a5b93b47b511"
   },
   "outputs": [
    {
     "name": "stderr",
     "output_type": "stream",
     "text": [
      "WARNING:helical.models.geneformer.geneformer_utils:CLS token present in token dictionary, excluding from average.\n",
      "WARNING:helical.models.geneformer.geneformer_utils:EOS token present in token dictionary, excluding from average.\n",
      "INFO:helical.models.geneformer.fine_tuning_model:Starting Fine-Tuning\n",
      "Fine-Tuning: epoch 1/1: 100%|██████████| 903/903 [12:24<00:00,  1.21it/s, loss=0.296]\n",
      "Fine-Tuning Validation: 100%|██████████| 416/416 [01:57<00:00,  3.53it/s, val_loss=0.585]\n",
      "INFO:helical.models.geneformer.fine_tuning_model:Fine-Tuning Complete. Epochs: 1\n"
     ]
    }
   ],
   "source": [
    "geneformer_ft.train(train_dataset=geneformer_train_dataset.shuffle(), validation_dataset=geneformer_test_dataset, label=\"Condition_ID\", freeze_layers=0, epochs=1, optimizer_params={\"lr\": 1e-4}, lr_scheduler_params={\"name\":\"linear\", \"num_warmup_steps\":0, 'num_training_steps':1})\n",
    "\n",
    "embeds, genes = geneformer_ft.get_embeddings(geneformer_test_dataset, output_genes=True)\n",
    "anndata_test = anndata_test.copy()\n",
    "anndata_test.obsm['X_Geneformer_FT'] = embeds\n",
    "\n",
    "anndata_test.write(\"/content/drive/MyDrive/counts_Astro_EmbeddingsFT_filtered_BA4_sALS.h5ad\")"
   ]
  },
  {
   "cell_type": "markdown",
   "id": "M4w7kE9iN_6D",
   "metadata": {
    "id": "M4w7kE9iN_6D"
   },
   "source": [
    "Generate embeddings for anndata file with perturbation effects and save\n"
   ]
  },
  {
   "cell_type": "code",
   "execution_count": 86,
   "id": "fkiGc2OLe2Er",
   "metadata": {
    "executionInfo": {
     "elapsed": 1616,
     "status": "ok",
     "timestamp": 1759697182440,
     "user": {
      "displayName": "Talo Dalo",
      "userId": "09374955428472337378"
     },
     "user_tz": -60
    },
    "id": "fkiGc2OLe2Er"
   },
   "outputs": [],
   "source": [
    "# Path to the ANNDATA object\n",
    "anndata_path = \"/content/drive/MyDrive/counts_Astro_filtered_BA4_ALS_CTNNA2.h5ad\"\n",
    "\n",
    "# Loads the ANNDATA object and renames ENSID to ensembl_id\n",
    "anndata = ad.read_h5ad(anndata_path)\n",
    "anndata.var.rename(columns={\"ENSID\" : \"ensembl_id\"}, inplace=True)"
   ]
  },
  {
   "cell_type": "code",
   "execution_count": 87,
   "id": "4mVZj7zQfe9P",
   "metadata": {
    "colab": {
     "base_uri": "https://localhost:8080/"
    },
    "executionInfo": {
     "elapsed": 1171,
     "status": "ok",
     "timestamp": 1759697183629,
     "user": {
      "displayName": "Talo Dalo",
      "userId": "09374955428472337378"
     },
     "user_tz": -60
    },
    "id": "4mVZj7zQfe9P",
    "outputId": "9416ddbb-e271-44f0-8183-6b19d26e2cce"
   },
   "outputs": [
    {
     "name": "stderr",
     "output_type": "stream",
     "text": [
      "INFO:helical.models.geneformer.model:Processing data for Geneformer.\n",
      "INFO:helical.models.geneformer.geneformer_tokenizer:AnnData object with n_obs × n_vars = 2295 × 22832\n",
      "    obs: 'Sample_ID', 'Donor', 'Region', 'Sex', 'Condition', 'Group', 'C9_pos', 'CellClass', 'CellType', 'SubType', 'full_label', 'DGE_Group', 'Bakken_M1', 'data_merge_id', 'data_sample_id', 'n_genes_by_counts', 'log1p_n_genes_by_counts', 'total_counts', 'log1p_total_counts', 'Cellstates_LVL1', 'Cellstates_LVL2', 'Cellstates_LVL3', 'total_counts_mt', 'log1p_total_counts_mt', 'pct_counts_mt', 'n_genes', 'split'\n",
      "    var: 'Biotype', 'Chromosome', 'n_cells_by_counts', 'mean_counts', 'log1p_mean_counts', 'pct_dropout_by_counts', 'total_counts', 'log1p_total_counts', 'ensembl_id', 'mt', 'n_cells', 'biotype', 'ensembl_id_collapsed'\n",
      "    uns: 'Genes_and_Scale' has no column attribute 'filter_pass'; tokenizing all cells.\n",
      "INFO:helical.models.geneformer.geneformer_tokenizer:Creating dataset.\n",
      "INFO:helical.models.geneformer.model:Successfully processed the data for Geneformer.\n"
     ]
    }
   ],
   "source": [
    "# Process data\n",
    "dataset_FT = geneformer_ft.process_data(anndata, gene_names='ensembl_id')"
   ]
  },
  {
   "cell_type": "code",
   "execution_count": 88,
   "id": "IsDxiYWMNrK2",
   "metadata": {
    "colab": {
     "base_uri": "https://localhost:8080/",
     "height": 136,
     "referenced_widgets": [
      "a4a995b0a8c34d0b8cbfc774fb8a579a",
      "9d5f89eac6f64c948b061021cceddf9e",
      "be823a18921b4e46b41e423e86ee0619",
      "bfec4d7607214b8d92993909b1fbe096",
      "d912f33847254e638706893c2e63ab9d",
      "4aeab8fdf0f244dfb6e1470ee835f382",
      "b12dfeacc11f41a4ba3fbd5fd0171e7b",
      "aa1dae3850604c41a1c4533e19be0c4b",
      "b5f12f04289545068669172aaddbe686",
      "6e6e2803e560439aaa0280d3dfb37852",
      "8aac94ccad084863b8bfffd80386fd04"
     ]
    },
    "executionInfo": {
     "elapsed": 19961,
     "status": "ok",
     "timestamp": 1759697203596,
     "user": {
      "displayName": "Talo Dalo",
      "userId": "09374955428472337378"
     },
     "user_tz": -60
    },
    "id": "IsDxiYWMNrK2",
    "outputId": "15216a4f-6c5f-4a0a-ed93-2d4a819308ab"
   },
   "outputs": [
    {
     "name": "stderr",
     "output_type": "stream",
     "text": [
      "INFO:helical.models.geneformer.model:Started getting embeddings:\n",
      "WARNING:helical.models.geneformer.geneformer_utils:CLS token present in token dictionary, excluding from average.\n",
      "WARNING:helical.models.geneformer.geneformer_utils:EOS token present in token dictionary, excluding from average.\n"
     ]
    },
    {
     "data": {
      "application/vnd.jupyter.widget-view+json": {
       "model_id": "a4a995b0a8c34d0b8cbfc774fb8a579a",
       "version_major": 2,
       "version_minor": 0
      },
      "text/plain": [
       "  0%|          | 0/230 [00:00<?, ?it/s]"
      ]
     },
     "metadata": {},
     "output_type": "display_data"
    },
    {
     "name": "stderr",
     "output_type": "stream",
     "text": [
      "INFO:helical.models.geneformer.model:Finished getting embeddings.\n",
      "... storing 'ensembl_id_collapsed' as categorical\n"
     ]
    }
   ],
   "source": [
    "# Generate embeddings, store in new anndata object and save\n",
    "embeddings, genes = geneformer_ft.get_embeddings(dataset_FT, output_genes=True)\n",
    "anndata.obsm['X_Geneformer_FT'] = embeddings\n",
    "\n",
    "anndata.write(anndata_path)"
   ]
  }
 ],
 "metadata": {
  "accelerator": "GPU",
  "colab": {
   "gpuType": "A100",
   "machine_shape": "hm",
   "provenance": []
  },
  "kernelspec": {
   "display_name": "Python 3",
   "name": "python3"
  },
  "language_info": {
   "codemirror_mode": {
    "name": "ipython",
    "version": 3
   },
   "file_extension": ".py",
   "mimetype": "text/x-python",
   "name": "python",
   "nbconvert_exporter": "python",
   "pygments_lexer": "ipython3",
   "version": "3.11.13"
  },
  "widgets": {
   "application/vnd.jupyter.widget-state+json": {
    "04223bd0959a4750ab1fdd83237ecbb3": {
     "model_module": "@jupyter-widgets/base",
     "model_module_version": "1.2.0",
     "model_name": "LayoutModel",
     "state": {
      "_model_module": "@jupyter-widgets/base",
      "_model_module_version": "1.2.0",
      "_model_name": "LayoutModel",
      "_view_count": null,
      "_view_module": "@jupyter-widgets/base",
      "_view_module_version": "1.2.0",
      "_view_name": "LayoutView",
      "align_content": null,
      "align_items": null,
      "align_self": null,
      "border": null,
      "bottom": null,
      "display": null,
      "flex": null,
      "flex_flow": null,
      "grid_area": null,
      "grid_auto_columns": null,
      "grid_auto_flow": null,
      "grid_auto_rows": null,
      "grid_column": null,
      "grid_gap": null,
      "grid_row": null,
      "grid_template_areas": null,
      "grid_template_columns": null,
      "grid_template_rows": null,
      "height": null,
      "justify_content": null,
      "justify_items": null,
      "left": null,
      "margin": null,
      "max_height": null,
      "max_width": null,
      "min_height": null,
      "min_width": null,
      "object_fit": null,
      "object_position": null,
      "order": null,
      "overflow": null,
      "overflow_x": null,
      "overflow_y": null,
      "padding": null,
      "right": null,
      "top": null,
      "visibility": null,
      "width": null
     }
    },
    "24f1830aefc64f9e9b0b6318e0e5c051": {
     "model_module": "@jupyter-widgets/controls",
     "model_module_version": "1.5.0",
     "model_name": "DescriptionStyleModel",
     "state": {
      "_model_module": "@jupyter-widgets/controls",
      "_model_module_version": "1.5.0",
      "_model_name": "DescriptionStyleModel",
      "_view_count": null,
      "_view_module": "@jupyter-widgets/base",
      "_view_module_version": "1.2.0",
      "_view_name": "StyleView",
      "description_width": ""
     }
    },
    "2e75c2abd0504fd399a80fe4709d8106": {
     "model_module": "@jupyter-widgets/base",
     "model_module_version": "1.2.0",
     "model_name": "LayoutModel",
     "state": {
      "_model_module": "@jupyter-widgets/base",
      "_model_module_version": "1.2.0",
      "_model_name": "LayoutModel",
      "_view_count": null,
      "_view_module": "@jupyter-widgets/base",
      "_view_module_version": "1.2.0",
      "_view_name": "LayoutView",
      "align_content": null,
      "align_items": null,
      "align_self": null,
      "border": null,
      "bottom": null,
      "display": null,
      "flex": null,
      "flex_flow": null,
      "grid_area": null,
      "grid_auto_columns": null,
      "grid_auto_flow": null,
      "grid_auto_rows": null,
      "grid_column": null,
      "grid_gap": null,
      "grid_row": null,
      "grid_template_areas": null,
      "grid_template_columns": null,
      "grid_template_rows": null,
      "height": null,
      "justify_content": null,
      "justify_items": null,
      "left": null,
      "margin": null,
      "max_height": null,
      "max_width": null,
      "min_height": null,
      "min_width": null,
      "object_fit": null,
      "object_position": null,
      "order": null,
      "overflow": null,
      "overflow_x": null,
      "overflow_y": null,
      "padding": null,
      "right": null,
      "top": null,
      "visibility": null,
      "width": null
     }
    },
    "33b2fe6c6a4d44a6b0b38e6ec25c8ec2": {
     "model_module": "@jupyter-widgets/controls",
     "model_module_version": "1.5.0",
     "model_name": "DescriptionStyleModel",
     "state": {
      "_model_module": "@jupyter-widgets/controls",
      "_model_module_version": "1.5.0",
      "_model_name": "DescriptionStyleModel",
      "_view_count": null,
      "_view_module": "@jupyter-widgets/base",
      "_view_module_version": "1.2.0",
      "_view_name": "StyleView",
      "description_width": ""
     }
    },
    "36c39c1a831e47d6a26014fba4ac5a47": {
     "model_module": "@jupyter-widgets/controls",
     "model_module_version": "1.5.0",
     "model_name": "ProgressStyleModel",
     "state": {
      "_model_module": "@jupyter-widgets/controls",
      "_model_module_version": "1.5.0",
      "_model_name": "ProgressStyleModel",
      "_view_count": null,
      "_view_module": "@jupyter-widgets/base",
      "_view_module_version": "1.2.0",
      "_view_name": "StyleView",
      "bar_color": null,
      "description_width": ""
     }
    },
    "3be33a870e3d4739bb3a2e39720ed838": {
     "model_module": "@jupyter-widgets/base",
     "model_module_version": "1.2.0",
     "model_name": "LayoutModel",
     "state": {
      "_model_module": "@jupyter-widgets/base",
      "_model_module_version": "1.2.0",
      "_model_name": "LayoutModel",
      "_view_count": null,
      "_view_module": "@jupyter-widgets/base",
      "_view_module_version": "1.2.0",
      "_view_name": "LayoutView",
      "align_content": null,
      "align_items": null,
      "align_self": null,
      "border": null,
      "bottom": null,
      "display": null,
      "flex": null,
      "flex_flow": null,
      "grid_area": null,
      "grid_auto_columns": null,
      "grid_auto_flow": null,
      "grid_auto_rows": null,
      "grid_column": null,
      "grid_gap": null,
      "grid_row": null,
      "grid_template_areas": null,
      "grid_template_columns": null,
      "grid_template_rows": null,
      "height": null,
      "justify_content": null,
      "justify_items": null,
      "left": null,
      "margin": null,
      "max_height": null,
      "max_width": null,
      "min_height": null,
      "min_width": null,
      "object_fit": null,
      "object_position": null,
      "order": null,
      "overflow": null,
      "overflow_x": null,
      "overflow_y": null,
      "padding": null,
      "right": null,
      "top": null,
      "visibility": null,
      "width": null
     }
    },
    "4aeab8fdf0f244dfb6e1470ee835f382": {
     "model_module": "@jupyter-widgets/base",
     "model_module_version": "1.2.0",
     "model_name": "LayoutModel",
     "state": {
      "_model_module": "@jupyter-widgets/base",
      "_model_module_version": "1.2.0",
      "_model_name": "LayoutModel",
      "_view_count": null,
      "_view_module": "@jupyter-widgets/base",
      "_view_module_version": "1.2.0",
      "_view_name": "LayoutView",
      "align_content": null,
      "align_items": null,
      "align_self": null,
      "border": null,
      "bottom": null,
      "display": null,
      "flex": null,
      "flex_flow": null,
      "grid_area": null,
      "grid_auto_columns": null,
      "grid_auto_flow": null,
      "grid_auto_rows": null,
      "grid_column": null,
      "grid_gap": null,
      "grid_row": null,
      "grid_template_areas": null,
      "grid_template_columns": null,
      "grid_template_rows": null,
      "height": null,
      "justify_content": null,
      "justify_items": null,
      "left": null,
      "margin": null,
      "max_height": null,
      "max_width": null,
      "min_height": null,
      "min_width": null,
      "object_fit": null,
      "object_position": null,
      "order": null,
      "overflow": null,
      "overflow_x": null,
      "overflow_y": null,
      "padding": null,
      "right": null,
      "top": null,
      "visibility": null,
      "width": null
     }
    },
    "56ab2885a9254b52afa312041ad87119": {
     "model_module": "@jupyter-widgets/controls",
     "model_module_version": "1.5.0",
     "model_name": "FloatProgressModel",
     "state": {
      "_dom_classes": [],
      "_model_module": "@jupyter-widgets/controls",
      "_model_module_version": "1.5.0",
      "_model_name": "FloatProgressModel",
      "_view_count": null,
      "_view_module": "@jupyter-widgets/controls",
      "_view_module_version": "1.5.0",
      "_view_name": "ProgressView",
      "bar_style": "success",
      "description": "",
      "description_tooltip": null,
      "layout": "IPY_MODEL_2e75c2abd0504fd399a80fe4709d8106",
      "max": 230,
      "min": 0,
      "orientation": "horizontal",
      "style": "IPY_MODEL_36c39c1a831e47d6a26014fba4ac5a47",
      "value": 230
     }
    },
    "6b759bb717af4e3f8e4b64e33bb31f93": {
     "model_module": "@jupyter-widgets/base",
     "model_module_version": "1.2.0",
     "model_name": "LayoutModel",
     "state": {
      "_model_module": "@jupyter-widgets/base",
      "_model_module_version": "1.2.0",
      "_model_name": "LayoutModel",
      "_view_count": null,
      "_view_module": "@jupyter-widgets/base",
      "_view_module_version": "1.2.0",
      "_view_name": "LayoutView",
      "align_content": null,
      "align_items": null,
      "align_self": null,
      "border": null,
      "bottom": null,
      "display": null,
      "flex": null,
      "flex_flow": null,
      "grid_area": null,
      "grid_auto_columns": null,
      "grid_auto_flow": null,
      "grid_auto_rows": null,
      "grid_column": null,
      "grid_gap": null,
      "grid_row": null,
      "grid_template_areas": null,
      "grid_template_columns": null,
      "grid_template_rows": null,
      "height": null,
      "justify_content": null,
      "justify_items": null,
      "left": null,
      "margin": null,
      "max_height": null,
      "max_width": null,
      "min_height": null,
      "min_width": null,
      "object_fit": null,
      "object_position": null,
      "order": null,
      "overflow": null,
      "overflow_x": null,
      "overflow_y": null,
      "padding": null,
      "right": null,
      "top": null,
      "visibility": null,
      "width": null
     }
    },
    "6e6e2803e560439aaa0280d3dfb37852": {
     "model_module": "@jupyter-widgets/base",
     "model_module_version": "1.2.0",
     "model_name": "LayoutModel",
     "state": {
      "_model_module": "@jupyter-widgets/base",
      "_model_module_version": "1.2.0",
      "_model_name": "LayoutModel",
      "_view_count": null,
      "_view_module": "@jupyter-widgets/base",
      "_view_module_version": "1.2.0",
      "_view_name": "LayoutView",
      "align_content": null,
      "align_items": null,
      "align_self": null,
      "border": null,
      "bottom": null,
      "display": null,
      "flex": null,
      "flex_flow": null,
      "grid_area": null,
      "grid_auto_columns": null,
      "grid_auto_flow": null,
      "grid_auto_rows": null,
      "grid_column": null,
      "grid_gap": null,
      "grid_row": null,
      "grid_template_areas": null,
      "grid_template_columns": null,
      "grid_template_rows": null,
      "height": null,
      "justify_content": null,
      "justify_items": null,
      "left": null,
      "margin": null,
      "max_height": null,
      "max_width": null,
      "min_height": null,
      "min_width": null,
      "object_fit": null,
      "object_position": null,
      "order": null,
      "overflow": null,
      "overflow_x": null,
      "overflow_y": null,
      "padding": null,
      "right": null,
      "top": null,
      "visibility": null,
      "width": null
     }
    },
    "714f6dd4430149a1a98cb1e653a75f83": {
     "model_module": "@jupyter-widgets/controls",
     "model_module_version": "1.5.0",
     "model_name": "HTMLModel",
     "state": {
      "_dom_classes": [],
      "_model_module": "@jupyter-widgets/controls",
      "_model_module_version": "1.5.0",
      "_model_name": "HTMLModel",
      "_view_count": null,
      "_view_module": "@jupyter-widgets/controls",
      "_view_module_version": "1.5.0",
      "_view_name": "HTMLView",
      "description": "",
      "description_tooltip": null,
      "layout": "IPY_MODEL_04223bd0959a4750ab1fdd83237ecbb3",
      "placeholder": "​",
      "style": "IPY_MODEL_ed70c18a4a2c4cc1985584ae01f7c80a",
      "value": "100%"
     }
    },
    "745b448894d246178c26cf90c8536d74": {
     "model_module": "@jupyter-widgets/controls",
     "model_module_version": "1.5.0",
     "model_name": "HTMLModel",
     "state": {
      "_dom_classes": [],
      "_model_module": "@jupyter-widgets/controls",
      "_model_module_version": "1.5.0",
      "_model_name": "HTMLModel",
      "_view_count": null,
      "_view_module": "@jupyter-widgets/controls",
      "_view_module_version": "1.5.0",
      "_view_name": "HTMLView",
      "description": "",
      "description_tooltip": null,
      "layout": "IPY_MODEL_3be33a870e3d4739bb3a2e39720ed838",
      "placeholder": "​",
      "style": "IPY_MODEL_7dc03c8c92334c16ae82555ac867d292",
      "value": " 416/416 [00:42&lt;00:00, 10.55it/s]"
     }
    },
    "79ceec6d1f7d4bb29ffc111f13395d85": {
     "model_module": "@jupyter-widgets/base",
     "model_module_version": "1.2.0",
     "model_name": "LayoutModel",
     "state": {
      "_model_module": "@jupyter-widgets/base",
      "_model_module_version": "1.2.0",
      "_model_name": "LayoutModel",
      "_view_count": null,
      "_view_module": "@jupyter-widgets/base",
      "_view_module_version": "1.2.0",
      "_view_name": "LayoutView",
      "align_content": null,
      "align_items": null,
      "align_self": null,
      "border": null,
      "bottom": null,
      "display": null,
      "flex": null,
      "flex_flow": null,
      "grid_area": null,
      "grid_auto_columns": null,
      "grid_auto_flow": null,
      "grid_auto_rows": null,
      "grid_column": null,
      "grid_gap": null,
      "grid_row": null,
      "grid_template_areas": null,
      "grid_template_columns": null,
      "grid_template_rows": null,
      "height": null,
      "justify_content": null,
      "justify_items": null,
      "left": null,
      "margin": null,
      "max_height": null,
      "max_width": null,
      "min_height": null,
      "min_width": null,
      "object_fit": null,
      "object_position": null,
      "order": null,
      "overflow": null,
      "overflow_x": null,
      "overflow_y": null,
      "padding": null,
      "right": null,
      "top": null,
      "visibility": null,
      "width": null
     }
    },
    "7dc03c8c92334c16ae82555ac867d292": {
     "model_module": "@jupyter-widgets/controls",
     "model_module_version": "1.5.0",
     "model_name": "DescriptionStyleModel",
     "state": {
      "_model_module": "@jupyter-widgets/controls",
      "_model_module_version": "1.5.0",
      "_model_name": "DescriptionStyleModel",
      "_view_count": null,
      "_view_module": "@jupyter-widgets/base",
      "_view_module_version": "1.2.0",
      "_view_name": "StyleView",
      "description_width": ""
     }
    },
    "84f09c1eb4d5410089b9c14fd1a40efb": {
     "model_module": "@jupyter-widgets/controls",
     "model_module_version": "1.5.0",
     "model_name": "HBoxModel",
     "state": {
      "_dom_classes": [],
      "_model_module": "@jupyter-widgets/controls",
      "_model_module_version": "1.5.0",
      "_model_name": "HBoxModel",
      "_view_count": null,
      "_view_module": "@jupyter-widgets/controls",
      "_view_module_version": "1.5.0",
      "_view_name": "HBoxView",
      "box_style": "",
      "children": [
       "IPY_MODEL_714f6dd4430149a1a98cb1e653a75f83",
       "IPY_MODEL_56ab2885a9254b52afa312041ad87119",
       "IPY_MODEL_a8048495c4154b77bea16998f56c2eb8"
      ],
      "layout": "IPY_MODEL_6b759bb717af4e3f8e4b64e33bb31f93"
     }
    },
    "8aac94ccad084863b8bfffd80386fd04": {
     "model_module": "@jupyter-widgets/controls",
     "model_module_version": "1.5.0",
     "model_name": "DescriptionStyleModel",
     "state": {
      "_model_module": "@jupyter-widgets/controls",
      "_model_module_version": "1.5.0",
      "_model_name": "DescriptionStyleModel",
      "_view_count": null,
      "_view_module": "@jupyter-widgets/base",
      "_view_module_version": "1.2.0",
      "_view_name": "StyleView",
      "description_width": ""
     }
    },
    "9d5f89eac6f64c948b061021cceddf9e": {
     "model_module": "@jupyter-widgets/controls",
     "model_module_version": "1.5.0",
     "model_name": "HTMLModel",
     "state": {
      "_dom_classes": [],
      "_model_module": "@jupyter-widgets/controls",
      "_model_module_version": "1.5.0",
      "_model_name": "HTMLModel",
      "_view_count": null,
      "_view_module": "@jupyter-widgets/controls",
      "_view_module_version": "1.5.0",
      "_view_name": "HTMLView",
      "description": "",
      "description_tooltip": null,
      "layout": "IPY_MODEL_4aeab8fdf0f244dfb6e1470ee835f382",
      "placeholder": "​",
      "style": "IPY_MODEL_b12dfeacc11f41a4ba3fbd5fd0171e7b",
      "value": "100%"
     }
    },
    "9f9202f63187408881886d2a82c16a38": {
     "model_module": "@jupyter-widgets/controls",
     "model_module_version": "1.5.0",
     "model_name": "HTMLModel",
     "state": {
      "_dom_classes": [],
      "_model_module": "@jupyter-widgets/controls",
      "_model_module_version": "1.5.0",
      "_model_name": "HTMLModel",
      "_view_count": null,
      "_view_module": "@jupyter-widgets/controls",
      "_view_module_version": "1.5.0",
      "_view_name": "HTMLView",
      "description": "",
      "description_tooltip": null,
      "layout": "IPY_MODEL_79ceec6d1f7d4bb29ffc111f13395d85",
      "placeholder": "​",
      "style": "IPY_MODEL_33b2fe6c6a4d44a6b0b38e6ec25c8ec2",
      "value": "100%"
     }
    },
    "a3cbe729e20e45fbbaaffcb3c03ddea1": {
     "model_module": "@jupyter-widgets/base",
     "model_module_version": "1.2.0",
     "model_name": "LayoutModel",
     "state": {
      "_model_module": "@jupyter-widgets/base",
      "_model_module_version": "1.2.0",
      "_model_name": "LayoutModel",
      "_view_count": null,
      "_view_module": "@jupyter-widgets/base",
      "_view_module_version": "1.2.0",
      "_view_name": "LayoutView",
      "align_content": null,
      "align_items": null,
      "align_self": null,
      "border": null,
      "bottom": null,
      "display": null,
      "flex": null,
      "flex_flow": null,
      "grid_area": null,
      "grid_auto_columns": null,
      "grid_auto_flow": null,
      "grid_auto_rows": null,
      "grid_column": null,
      "grid_gap": null,
      "grid_row": null,
      "grid_template_areas": null,
      "grid_template_columns": null,
      "grid_template_rows": null,
      "height": null,
      "justify_content": null,
      "justify_items": null,
      "left": null,
      "margin": null,
      "max_height": null,
      "max_width": null,
      "min_height": null,
      "min_width": null,
      "object_fit": null,
      "object_position": null,
      "order": null,
      "overflow": null,
      "overflow_x": null,
      "overflow_y": null,
      "padding": null,
      "right": null,
      "top": null,
      "visibility": null,
      "width": null
     }
    },
    "a466ec5fc5864ab199eba3b0ea52f719": {
     "model_module": "@jupyter-widgets/controls",
     "model_module_version": "1.5.0",
     "model_name": "FloatProgressModel",
     "state": {
      "_dom_classes": [],
      "_model_module": "@jupyter-widgets/controls",
      "_model_module_version": "1.5.0",
      "_model_name": "FloatProgressModel",
      "_view_count": null,
      "_view_module": "@jupyter-widgets/controls",
      "_view_module_version": "1.5.0",
      "_view_name": "ProgressView",
      "bar_style": "success",
      "description": "",
      "description_tooltip": null,
      "layout": "IPY_MODEL_bd21e1b0c5564bbcb23ad30a3505e189",
      "max": 416,
      "min": 0,
      "orientation": "horizontal",
      "style": "IPY_MODEL_feec5704ae09429f97a2520544838236",
      "value": 416
     }
    },
    "a4a995b0a8c34d0b8cbfc774fb8a579a": {
     "model_module": "@jupyter-widgets/controls",
     "model_module_version": "1.5.0",
     "model_name": "HBoxModel",
     "state": {
      "_dom_classes": [],
      "_model_module": "@jupyter-widgets/controls",
      "_model_module_version": "1.5.0",
      "_model_name": "HBoxModel",
      "_view_count": null,
      "_view_module": "@jupyter-widgets/controls",
      "_view_module_version": "1.5.0",
      "_view_name": "HBoxView",
      "box_style": "",
      "children": [
       "IPY_MODEL_9d5f89eac6f64c948b061021cceddf9e",
       "IPY_MODEL_be823a18921b4e46b41e423e86ee0619",
       "IPY_MODEL_bfec4d7607214b8d92993909b1fbe096"
      ],
      "layout": "IPY_MODEL_d912f33847254e638706893c2e63ab9d"
     }
    },
    "a8048495c4154b77bea16998f56c2eb8": {
     "model_module": "@jupyter-widgets/controls",
     "model_module_version": "1.5.0",
     "model_name": "HTMLModel",
     "state": {
      "_dom_classes": [],
      "_model_module": "@jupyter-widgets/controls",
      "_model_module_version": "1.5.0",
      "_model_name": "HTMLModel",
      "_view_count": null,
      "_view_module": "@jupyter-widgets/controls",
      "_view_module_version": "1.5.0",
      "_view_name": "HTMLView",
      "description": "",
      "description_tooltip": null,
      "layout": "IPY_MODEL_a3cbe729e20e45fbbaaffcb3c03ddea1",
      "placeholder": "​",
      "style": "IPY_MODEL_24f1830aefc64f9e9b0b6318e0e5c051",
      "value": " 230/230 [00:19&lt;00:00, 14.31it/s]"
     }
    },
    "aa1dae3850604c41a1c4533e19be0c4b": {
     "model_module": "@jupyter-widgets/base",
     "model_module_version": "1.2.0",
     "model_name": "LayoutModel",
     "state": {
      "_model_module": "@jupyter-widgets/base",
      "_model_module_version": "1.2.0",
      "_model_name": "LayoutModel",
      "_view_count": null,
      "_view_module": "@jupyter-widgets/base",
      "_view_module_version": "1.2.0",
      "_view_name": "LayoutView",
      "align_content": null,
      "align_items": null,
      "align_self": null,
      "border": null,
      "bottom": null,
      "display": null,
      "flex": null,
      "flex_flow": null,
      "grid_area": null,
      "grid_auto_columns": null,
      "grid_auto_flow": null,
      "grid_auto_rows": null,
      "grid_column": null,
      "grid_gap": null,
      "grid_row": null,
      "grid_template_areas": null,
      "grid_template_columns": null,
      "grid_template_rows": null,
      "height": null,
      "justify_content": null,
      "justify_items": null,
      "left": null,
      "margin": null,
      "max_height": null,
      "max_width": null,
      "min_height": null,
      "min_width": null,
      "object_fit": null,
      "object_position": null,
      "order": null,
      "overflow": null,
      "overflow_x": null,
      "overflow_y": null,
      "padding": null,
      "right": null,
      "top": null,
      "visibility": null,
      "width": null
     }
    },
    "b12dfeacc11f41a4ba3fbd5fd0171e7b": {
     "model_module": "@jupyter-widgets/controls",
     "model_module_version": "1.5.0",
     "model_name": "DescriptionStyleModel",
     "state": {
      "_model_module": "@jupyter-widgets/controls",
      "_model_module_version": "1.5.0",
      "_model_name": "DescriptionStyleModel",
      "_view_count": null,
      "_view_module": "@jupyter-widgets/base",
      "_view_module_version": "1.2.0",
      "_view_name": "StyleView",
      "description_width": ""
     }
    },
    "b4486e2f7822412997f0ed3e91c3f84e": {
     "model_module": "@jupyter-widgets/base",
     "model_module_version": "1.2.0",
     "model_name": "LayoutModel",
     "state": {
      "_model_module": "@jupyter-widgets/base",
      "_model_module_version": "1.2.0",
      "_model_name": "LayoutModel",
      "_view_count": null,
      "_view_module": "@jupyter-widgets/base",
      "_view_module_version": "1.2.0",
      "_view_name": "LayoutView",
      "align_content": null,
      "align_items": null,
      "align_self": null,
      "border": null,
      "bottom": null,
      "display": null,
      "flex": null,
      "flex_flow": null,
      "grid_area": null,
      "grid_auto_columns": null,
      "grid_auto_flow": null,
      "grid_auto_rows": null,
      "grid_column": null,
      "grid_gap": null,
      "grid_row": null,
      "grid_template_areas": null,
      "grid_template_columns": null,
      "grid_template_rows": null,
      "height": null,
      "justify_content": null,
      "justify_items": null,
      "left": null,
      "margin": null,
      "max_height": null,
      "max_width": null,
      "min_height": null,
      "min_width": null,
      "object_fit": null,
      "object_position": null,
      "order": null,
      "overflow": null,
      "overflow_x": null,
      "overflow_y": null,
      "padding": null,
      "right": null,
      "top": null,
      "visibility": null,
      "width": null
     }
    },
    "b5f12f04289545068669172aaddbe686": {
     "model_module": "@jupyter-widgets/controls",
     "model_module_version": "1.5.0",
     "model_name": "ProgressStyleModel",
     "state": {
      "_model_module": "@jupyter-widgets/controls",
      "_model_module_version": "1.5.0",
      "_model_name": "ProgressStyleModel",
      "_view_count": null,
      "_view_module": "@jupyter-widgets/base",
      "_view_module_version": "1.2.0",
      "_view_name": "StyleView",
      "bar_color": null,
      "description_width": ""
     }
    },
    "bd21e1b0c5564bbcb23ad30a3505e189": {
     "model_module": "@jupyter-widgets/base",
     "model_module_version": "1.2.0",
     "model_name": "LayoutModel",
     "state": {
      "_model_module": "@jupyter-widgets/base",
      "_model_module_version": "1.2.0",
      "_model_name": "LayoutModel",
      "_view_count": null,
      "_view_module": "@jupyter-widgets/base",
      "_view_module_version": "1.2.0",
      "_view_name": "LayoutView",
      "align_content": null,
      "align_items": null,
      "align_self": null,
      "border": null,
      "bottom": null,
      "display": null,
      "flex": null,
      "flex_flow": null,
      "grid_area": null,
      "grid_auto_columns": null,
      "grid_auto_flow": null,
      "grid_auto_rows": null,
      "grid_column": null,
      "grid_gap": null,
      "grid_row": null,
      "grid_template_areas": null,
      "grid_template_columns": null,
      "grid_template_rows": null,
      "height": null,
      "justify_content": null,
      "justify_items": null,
      "left": null,
      "margin": null,
      "max_height": null,
      "max_width": null,
      "min_height": null,
      "min_width": null,
      "object_fit": null,
      "object_position": null,
      "order": null,
      "overflow": null,
      "overflow_x": null,
      "overflow_y": null,
      "padding": null,
      "right": null,
      "top": null,
      "visibility": null,
      "width": null
     }
    },
    "be823a18921b4e46b41e423e86ee0619": {
     "model_module": "@jupyter-widgets/controls",
     "model_module_version": "1.5.0",
     "model_name": "FloatProgressModel",
     "state": {
      "_dom_classes": [],
      "_model_module": "@jupyter-widgets/controls",
      "_model_module_version": "1.5.0",
      "_model_name": "FloatProgressModel",
      "_view_count": null,
      "_view_module": "@jupyter-widgets/controls",
      "_view_module_version": "1.5.0",
      "_view_name": "ProgressView",
      "bar_style": "success",
      "description": "",
      "description_tooltip": null,
      "layout": "IPY_MODEL_aa1dae3850604c41a1c4533e19be0c4b",
      "max": 230,
      "min": 0,
      "orientation": "horizontal",
      "style": "IPY_MODEL_b5f12f04289545068669172aaddbe686",
      "value": 230
     }
    },
    "bfec4d7607214b8d92993909b1fbe096": {
     "model_module": "@jupyter-widgets/controls",
     "model_module_version": "1.5.0",
     "model_name": "HTMLModel",
     "state": {
      "_dom_classes": [],
      "_model_module": "@jupyter-widgets/controls",
      "_model_module_version": "1.5.0",
      "_model_name": "HTMLModel",
      "_view_count": null,
      "_view_module": "@jupyter-widgets/controls",
      "_view_module_version": "1.5.0",
      "_view_name": "HTMLView",
      "description": "",
      "description_tooltip": null,
      "layout": "IPY_MODEL_6e6e2803e560439aaa0280d3dfb37852",
      "placeholder": "​",
      "style": "IPY_MODEL_8aac94ccad084863b8bfffd80386fd04",
      "value": " 230/230 [00:19&lt;00:00, 14.16it/s]"
     }
    },
    "d912f33847254e638706893c2e63ab9d": {
     "model_module": "@jupyter-widgets/base",
     "model_module_version": "1.2.0",
     "model_name": "LayoutModel",
     "state": {
      "_model_module": "@jupyter-widgets/base",
      "_model_module_version": "1.2.0",
      "_model_name": "LayoutModel",
      "_view_count": null,
      "_view_module": "@jupyter-widgets/base",
      "_view_module_version": "1.2.0",
      "_view_name": "LayoutView",
      "align_content": null,
      "align_items": null,
      "align_self": null,
      "border": null,
      "bottom": null,
      "display": null,
      "flex": null,
      "flex_flow": null,
      "grid_area": null,
      "grid_auto_columns": null,
      "grid_auto_flow": null,
      "grid_auto_rows": null,
      "grid_column": null,
      "grid_gap": null,
      "grid_row": null,
      "grid_template_areas": null,
      "grid_template_columns": null,
      "grid_template_rows": null,
      "height": null,
      "justify_content": null,
      "justify_items": null,
      "left": null,
      "margin": null,
      "max_height": null,
      "max_width": null,
      "min_height": null,
      "min_width": null,
      "object_fit": null,
      "object_position": null,
      "order": null,
      "overflow": null,
      "overflow_x": null,
      "overflow_y": null,
      "padding": null,
      "right": null,
      "top": null,
      "visibility": null,
      "width": null
     }
    },
    "eac16811ebf94bca86c21801ec33b579": {
     "model_module": "@jupyter-widgets/controls",
     "model_module_version": "1.5.0",
     "model_name": "HBoxModel",
     "state": {
      "_dom_classes": [],
      "_model_module": "@jupyter-widgets/controls",
      "_model_module_version": "1.5.0",
      "_model_name": "HBoxModel",
      "_view_count": null,
      "_view_module": "@jupyter-widgets/controls",
      "_view_module_version": "1.5.0",
      "_view_name": "HBoxView",
      "box_style": "",
      "children": [
       "IPY_MODEL_9f9202f63187408881886d2a82c16a38",
       "IPY_MODEL_a466ec5fc5864ab199eba3b0ea52f719",
       "IPY_MODEL_745b448894d246178c26cf90c8536d74"
      ],
      "layout": "IPY_MODEL_b4486e2f7822412997f0ed3e91c3f84e"
     }
    },
    "ed70c18a4a2c4cc1985584ae01f7c80a": {
     "model_module": "@jupyter-widgets/controls",
     "model_module_version": "1.5.0",
     "model_name": "DescriptionStyleModel",
     "state": {
      "_model_module": "@jupyter-widgets/controls",
      "_model_module_version": "1.5.0",
      "_model_name": "DescriptionStyleModel",
      "_view_count": null,
      "_view_module": "@jupyter-widgets/base",
      "_view_module_version": "1.2.0",
      "_view_name": "StyleView",
      "description_width": ""
     }
    },
    "feec5704ae09429f97a2520544838236": {
     "model_module": "@jupyter-widgets/controls",
     "model_module_version": "1.5.0",
     "model_name": "ProgressStyleModel",
     "state": {
      "_model_module": "@jupyter-widgets/controls",
      "_model_module_version": "1.5.0",
      "_model_name": "ProgressStyleModel",
      "_view_count": null,
      "_view_module": "@jupyter-widgets/base",
      "_view_module_version": "1.2.0",
      "_view_name": "StyleView",
      "bar_color": null,
      "description_width": ""
     }
    }
   }
  }
 },
 "nbformat": 4,
 "nbformat_minor": 5
}
